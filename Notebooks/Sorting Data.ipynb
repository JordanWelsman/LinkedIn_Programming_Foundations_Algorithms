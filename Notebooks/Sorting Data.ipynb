{
 "cells": [
  {
   "cell_type": "markdown",
   "id": "ea3c4ac2",
   "metadata": {},
   "source": [
    "# Sorting Data\n",
    "- Most modern languages have sorting built in:\n",
    "    - Bubble Sort\n",
    "    - Merge Sort\n",
    "    - Quick Sort\n"
   ]
  },
  {
   "cell_type": "code",
   "execution_count": 2,
   "id": "8529bde3",
   "metadata": {},
   "outputs": [],
   "source": [
    "import time\n",
    "import numpy as np\n",
    "import scipy as sp\n",
    "\n",
    "import matplotlib.pyplot as plt\n",
    "from matplotlib.animation import FuncAnimation\n",
    "\n",
    "plt.rcParams[\"figure.figsize\"] = (6, 4)\n",
    "plt.rcParams[\"font.size\"] = 12"
   ]
  },
  {
   "cell_type": "markdown",
   "id": "063f9837",
   "metadata": {},
   "source": [
    "## The Bubble Sort\n",
    "1. Begins by comparing first to elements to see which is larger.\n",
    "    - If the first element is larger than the second, the two elements are swapped.\n",
    "    - If the second element is larger than the first, the algorithm moves onto the next element.\n",
    "2. The algorithm advances to the next element and performs the same comparison.\n",
    "3. This process conmtinues until the largest number reaches the top of the array.\n",
    "4. The process they starts again and pushes the next largest value to its correct position.\n",
    "\n",
    "> The values \"bubble\" their way to the top of the array.\n",
    "\n",
    "> Performance: **O(n<sup>2</sup>)**\n",
    "\n",
    "- Very simple to understand and implement.\n",
    "- Other sorting algorithms are generally much better.\n",
    "- Not considered to be a practical solution."
   ]
  },
  {
   "cell_type": "code",
   "execution_count": 11,
   "id": "97c1ffef",
   "metadata": {},
   "outputs": [
    {
     "name": "stdout",
     "output_type": "stream",
     "text": [
      "Time taken to sort: 0.016ms\n"
     ]
    },
    {
     "data": {
      "image/png": "[encoded data removed]",
      "text/plain": [
       "<Figure size 432x288 with 1 Axes>"
      ]
     },
     "metadata": {
      "needs_background": "light"
     },
     "output_type": "display_data"
    },
    {
     "data": {
      "image/png": "[encoded data removed]",
      "text/plain": [
       "<Figure size 432x288 with 1 Axes>"
      ]
     },
     "metadata": {
      "needs_background": "light"
     },
     "output_type": "display_data"
    }
   ],
   "source": [
    "def bubbleSort(dataset):\n",
    "    # Plot graph of unsorted array\n",
    "    fig, ax = plt.subplots()\n",
    "    ax.bar(np.arange(0, len(dataset), 1), dataset, align=\"edge\", width=0.8)\n",
    "    ax.set_title(\"Unsorted array\")\n",
    "    \n",
    "    tic = time.time() # start time\n",
    "    \n",
    "    # TODO: start with the array length and decrement each time\n",
    "    for i in range(len(dataset) - 1, 0, -1):\n",
    "        for j in range(i):\n",
    "            if dataset[j] > dataset[j+1]: # if current element is larger than the next element\n",
    "                temp = dataset[j]\n",
    "                dataset[j] = dataset[j+1] # swap elements\n",
    "                dataset[j+1] = temp\n",
    "               \n",
    "        # print(\"Current state: \", dataset) # print array status\n",
    "    \n",
    "    toc = time.time() # end time\n",
    "    diff = toc - tic\n",
    "    print(\"Time taken to sort:\", str(round(diff*1000, 3)) + \"ms\")\n",
    "\n",
    "    # Plot graph of sorted array\n",
    "    fig, ax = plt.subplots()\n",
    "    ax.bar(np.arange(0, len(dataset), 1), dataset, align=\"edge\", width=0.8)\n",
    "    ax.set_title(\"Sorted array\")\n",
    "\n",
    "    \n",
    "def main():\n",
    "    list1 = [6, 20, 8, 19, 56, 23, 87, 41, 49, 53]\n",
    "    list2 = [10, 20, 30, 40, 50, 60, 70, 80, 90, 100]\n",
    "    \n",
    "    np.random.seed(0) # randomness seed\n",
    "    np.random.shuffle(list1) # randomly shuffle array\n",
    "    \n",
    "    bubbleSort(list1) # sort array\n",
    "    # print(\"Result: \", list1) # print sorted array\n",
    "\n",
    "\n",
    "if __name__ == \"__main__\":\n",
    "    main()\n",
    "    "
   ]
  },
  {
   "cell_type": "markdown",
   "id": "e99b540a",
   "metadata": {},
   "source": [
    "## The Merge Sort\n",
    "1. Break array down into smaller arrays until each array contains only one value.\n",
    "2. When merging two arrays, place indexes at first elements in both arrays.\n",
    "3. Insert smallest value into the merged array.\n",
    "    - Advance the index of the array with the last submitted value.\n",
    "4. Repeat comparison and insertion until one array expires.\n",
    "    - Insert the rest of the remining array.\n",
    "\n",
    "> This is a _divide and conquer_ algorithm.\n",
    "\n",
    "> Performance: **O(n log n)**\n",
    "\n",
    "- Usually used to merge two sorted arrays into one.\n",
    "- Uses recursion to operate on datasets.\n",
    "- Performs well on large datasets."
   ]
  },
  {
   "cell_type": "code",
   "execution_count": 17,
   "id": "6d2b809e",
   "metadata": {
    "scrolled": false
   },
   "outputs": [
    {
     "name": "stdout",
     "output_type": "stream",
     "text": [
      "Time taken to sort: 0.027ms\n"
     ]
    },
    {
     "data": {
      "image/png": "[encoded data removed]",
      "text/plain": [
       "<Figure size 432x288 with 1 Axes>"
      ]
     },
     "metadata": {
      "needs_background": "light"
     },
     "output_type": "display_data"
    },
    {
     "data": {
      "image/png": "[encoded data removed]",
      "text/plain": [
       "<Figure size 432x288 with 1 Axes>"
      ]
     },
     "metadata": {
      "needs_background": "light"
     },
     "output_type": "display_data"
    }
   ],
   "source": [
    "def mergesort(dataset):\n",
    "    if len(dataset) > 1:\n",
    "        mid = len(dataset) // 2\n",
    "        leftarr = dataset[:mid]\n",
    "        rightarr = dataset[mid:]\n",
    "\n",
    "        # TODO: recursively break down the arrays\n",
    "        mergesort(leftarr)\n",
    "        mergesort(rightarr)\n",
    "\n",
    "        # TODO: now perform the merging\n",
    "        i=0 # index into the left array\n",
    "        j=0 # index into the right array\n",
    "        k=0 # index into merged array\n",
    "\n",
    "        # TODO: while both arrays have content\n",
    "        while i < len(leftarr) and j < len(rightarr):\n",
    "            if leftarr[i] < rightarr[j]:\n",
    "                dataset[k] = leftarr[i]\n",
    "                i += 1\n",
    "            else:\n",
    "                dataset[k] = rightarr[j]\n",
    "                j += 1\n",
    "            k += 1\n",
    "\n",
    "        # TODO: if the left array still has values, add them\n",
    "        while i < len(leftarr):\n",
    "            dataset[k] = leftarr[i]\n",
    "            i += 1\n",
    "            k += 1\n",
    "\n",
    "        # TODO: if the right array still has values, add them\n",
    "        while j < len(rightarr):\n",
    "            dataset[k] = rightarr[j]\n",
    "            j += 1\n",
    "            k += 1\n",
    "\n",
    "\n",
    "def main():\n",
    "    items = [6, 20, 8, 19, 56, 23, 87, 41, 49, 53]\n",
    "    \n",
    "    np.random.seed(0) # randomness seed\n",
    "    np.random.shuffle(items) # randomly shuffle array\n",
    "    \n",
    "    # Test the merge sort with data\n",
    "    # Plot graph of unsorted array\n",
    "    fig, ax = plt.subplots()\n",
    "    ax.bar(np.arange(0, len(items), 1), items, align=\"edge\", width=0.8)\n",
    "    ax.set_title(\"Unsorted array\")\n",
    "    \n",
    "    tic = time.time() # start time\n",
    "    \n",
    "    # print(items)\n",
    "    mergesort(items)\n",
    "    # print(items)\n",
    "    \n",
    "    toc = time.time() # end time\n",
    "    diff = toc - tic\n",
    "    print(\"Time taken to sort:\", str(round(diff*1000, 3)) + \"ms\")\n",
    "\n",
    "    # Plot graph of sorted array\n",
    "    fig, ax = plt.subplots()\n",
    "    ax.bar(np.arange(0, len(items), 1), items, align=\"edge\", width=0.8)\n",
    "    ax.set_title(\"Sorted array\")\n",
    "\n",
    "if __name__ == \"__main__\":\n",
    "    main()\n",
    "    "
   ]
  },
  {
   "cell_type": "markdown",
   "id": "0c773d48",
   "metadata": {},
   "source": [
    "## The Quicksort\n",
    "1. Select pivot value in dataset.\n",
    "    - The purpose of this is to move values on the wrong side of the pivot value to the other side.\n",
    "    - This is used to split the array and recursively repeat to sort.\n",
    "2. Place lower index and upper index at either ends of array.\n",
    "3. Compare lower index to pivot value.\n",
    "    - If lower index is less than the pivot value, increment the lower index pointer.\n",
    "    - If the lower index is more than the pivot value, stop incrementing the lower index pointer.\n",
    "4. Compare higher index to the pivot value.\n",
    "    - If the higher index is more than the pivot value, stop incrementing and swap the higher and lower index values.\n",
    "    - If the higher index is less than the pivot value, continue to decrement the higher index.\n",
    "5. When the indexed cross, the split point has been identified.\n",
    "    - Split the array into two arrays at the split point.\n",
    "    - Exchange the pivot value and the highest value in the pivot value's array.\n",
    "    - The left array contains values less than the pivot value, and the right array contains values more than the pivot value.\n",
    "6. Continue to recursively break down the arrays in this fashion, then rebuild the sorted array once finished.\n",
    "\n",
    "> This is a _divide and conquer_ algorithm, like the merge sort.\n",
    "\n",
    "> Performance: generally **O(n log n)**\n",
    "\n",
    "> Worst-case performance: **O(n<sup>2</sup>)**\n",
    "\n",
    "- Uses recursion to operate on datasets.\n",
    "- Generally performs better and merge sort.\n",
    "- Uses pivot-point selection to sort datasets."
   ]
  },
  {
   "cell_type": "code",
   "execution_count": 22,
   "id": "23c9b0b9",
   "metadata": {},
   "outputs": [
    {
     "name": "stdout",
     "output_type": "stream",
     "text": [
      "Time taken to sort: 0.013ms\n"
     ]
    },
    {
     "data": {
      "image/png": "[encoded data removed]",
      "text/plain": [
       "<Figure size 432x288 with 1 Axes>"
      ]
     },
     "metadata": {
      "needs_background": "light"
     },
     "output_type": "display_data"
    },
    {
     "data": {
      "image/png": "[encoded data removed]",
      "text/plain": [
       "<Figure size 432x288 with 1 Axes>"
      ]
     },
     "metadata": {
      "needs_background": "light"
     },
     "output_type": "display_data"
    }
   ],
   "source": [
    "def quickSort(dataset, first, last):\n",
    "    if first < last:\n",
    "        # calculate the split point\n",
    "        pivotIdx = partition(dataset, first, last)\n",
    "\n",
    "        # now sort the two partitions\n",
    "        quickSort(dataset, first, pivotIdx-1)\n",
    "        quickSort(dataset, pivotIdx+1, last)\n",
    "\n",
    "\n",
    "def partition(datavalues, first, last):\n",
    "    # choose the first item as the pivot value\n",
    "    pivotvalue = datavalues[first]\n",
    "    # establish the upper and lower indexes\n",
    "    lower = first + 1\n",
    "    upper = last\n",
    "\n",
    "    # start searching for the crossing point\n",
    "    done = False\n",
    "    while not done:\n",
    "        # TODO: advance the lower index\n",
    "        while lower <= upper and datavalues[lower] <= pivotvalue:\n",
    "            lower += 1\n",
    "        \n",
    "        # TODO: advance the upper index\n",
    "        while datavalues[upper] >= pivotvalue and upper >= lower:\n",
    "            upper -= 1\n",
    "        \n",
    "        # TODO: if the two indexes cross, we have found the split point\n",
    "        if upper < lower:\n",
    "            done = True\n",
    "        else:\n",
    "            temp = datavalues[lower]\n",
    "            datavalues[lower] = datavalues[upper]\n",
    "            datavalues[upper] = temp\n",
    "\n",
    "    # when the split point is found, exchange the pivot value\n",
    "    temp = datavalues[first]\n",
    "    datavalues[first] = datavalues[upper]\n",
    "    datavalues[upper] = temp\n",
    "\n",
    "    # return the split point index\n",
    "    return upper\n",
    "\n",
    "def main():\n",
    "    items = [20, 6, 8, 53, 56, 23, 87, 41, 49, 19]\n",
    "    \n",
    "    np.random.seed(0) # randomness seed\n",
    "    np.random.shuffle(items) # randomly shuffle array\n",
    "    \n",
    "    # Test the merge sort with data\n",
    "    # Plot graph of unsorted array\n",
    "    fig, ax = plt.subplots()\n",
    "    ax.bar(np.arange(0, len(items), 1), items, align=\"edge\", width=0.8)\n",
    "    ax.set_title(\"Unsorted array\")\n",
    "    \n",
    "    tic = time.time() # start time\n",
    "    \n",
    "    # test the merge sort with data\n",
    "    # print(items)\n",
    "    quickSort(items, 0, len(items)-1)\n",
    "    # print(items)\n",
    "    \n",
    "    toc = time.time() # end time\n",
    "    diff = toc - tic\n",
    "    print(\"Time taken to sort:\", str(round(diff*1000, 3)) + \"ms\")\n",
    "\n",
    "    # Plot graph of sorted array\n",
    "    fig, ax = plt.subplots()\n",
    "    ax.bar(np.arange(0, len(items), 1), items, align=\"edge\", width=0.8)\n",
    "    ax.set_title(\"Sorted array\")\n",
    "\n",
    "if __name__ == \"__main__\":\n",
    "    main()\n"
   ]
  }
 ],
 "metadata": {
  "kernelspec": {
   "display_name": "Python 3 (ipykernel)",
   "language": "python",
   "name": "python3"
  },
  "language_info": {
   "codemirror_mode": {
    "name": "ipython",
    "version": 3
   },
   "file_extension": ".py",
   "mimetype": "text/x-python",
   "name": "python",
   "nbconvert_exporter": "python",
   "pygments_lexer": "ipython3",
   "version": "3.9.1"
  },
  "toc": {
   "base_numbering": 1,
   "nav_menu": {},
   "number_sections": true,
   "sideBar": true,
   "skip_h1_title": false,
   "title_cell": "Table of Contents",
   "title_sidebar": "Contents",
   "toc_cell": false,
   "toc_position": {},
   "toc_section_display": true,
   "toc_window_display": false
  }
 },
 "nbformat": 4,
 "nbformat_minor": 5
}
