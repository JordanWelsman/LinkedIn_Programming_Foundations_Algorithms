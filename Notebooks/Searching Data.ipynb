{
 "cells": [
  {
   "cell_type": "markdown",
   "id": "a56592c5",
   "metadata": {},
   "source": [
    "# Searching Data"
   ]
  },
  {
   "cell_type": "markdown",
   "id": "d39a702a",
   "metadata": {},
   "source": [
    "## Unordered List Search\n",
    "Definition: _Searching for an item in an unordered list (sometimes called a Linear search)._\n",
    "\n",
    "> Time complexity: **O(n)**"
   ]
  },
  {
   "cell_type": "code",
   "execution_count": 3,
   "id": "34f3929d",
   "metadata": {},
   "outputs": [
    {
     "name": "stdout",
     "output_type": "stream",
     "text": [
      "Item 87 at position 6\n",
      "Item 250 at position None\n"
     ]
    }
   ],
   "source": [
    "# Declare a list of values to operate on\n",
    "items = [6, 20, 8, 19, 56, 23, 87, 41, 49, 53]\n",
    "\n",
    "def find_item(item, itemlist):\n",
    "    for i in range(0, len(items)):\n",
    "        if item == itemlist[i]:\n",
    "            return i\n",
    "    \n",
    "    return None\n",
    "\n",
    "\n",
    "a = 87\n",
    "b = 250\n",
    "\n",
    "print(\"Item\", str(a), \"at position\", find_item(a, items))\n",
    "print(\"Item\", str(b), \"at position\", find_item(b, items))\n"
   ]
  },
  {
   "cell_type": "markdown",
   "id": "afe248ed",
   "metadata": {},
   "source": [
    "## Sorted List Search\n",
    "Definition: _Searching for an item in an unordered list (sometimes called a Binary search)._\n",
    "- Sorted List searches are much faster than Unordered List searches.\n",
    "\n",
    "> Time complexity: **O(log n)**"
   ]
  },
  {
   "cell_type": "code",
   "execution_count": 4,
   "id": "d2aac8bb",
   "metadata": {},
   "outputs": [
    {
     "name": "stdout",
     "output_type": "stream",
     "text": [
      "Item 23 at position 4\n",
      "Item 87 at position 9\n",
      "Item 250 at position None\n"
     ]
    }
   ],
   "source": [
    "# Declare a list of values to operate on\n",
    "items = [6, 8, 19, 20, 23, 41, 49, 53, 56, 87]\n",
    "\n",
    "def binarysearch(item, itemlist):\n",
    "    # get the list size\n",
    "    listsize = len(itemlist) - 1\n",
    "    # start at the two ends of the list\n",
    "    lowerIdx = 0\n",
    "    upperIdx = listsize\n",
    "\n",
    "    while lowerIdx <= upperIdx:\n",
    "        pass\n",
    "        # TODO: calculate the middle point\n",
    "        midPt = (lowerIdx + upperIdx) // 2\n",
    "\n",
    "        # TODO: if item is found, return the index\n",
    "        if itemlist[midPt] == item:\n",
    "            return midPt\n",
    "\n",
    "        # TODO: otherwise get the next midpoint\n",
    "        if item > itemlist[midPt]:\n",
    "            lowerIdx = midPt + 1\n",
    "        else:\n",
    "            upperIdx = midPt - 1\n",
    "            \n",
    "\n",
    "    if lowerIdx > upperIdx:\n",
    "        return None\n",
    "\n",
    "    \n",
    "x = 23\n",
    "y = 87\n",
    "z = 250\n",
    "\n",
    "print(\"Item\", str(x), \"at position\", binarysearch(x, items))\n",
    "print(\"Item\", str(y), \"at position\", binarysearch(y, items))\n",
    "print(\"Item\", str(z), \"at position\", binarysearch(z, items))\n"
   ]
  },
  {
   "cell_type": "markdown",
   "id": "7cbf51f1",
   "metadata": {},
   "source": [
    "## List Order Determination\n",
    "Definition: _Determining if a list is ordered to assist in deciding on the search algorithm to be used._"
   ]
  },
  {
   "cell_type": "code",
   "execution_count": 8,
   "id": "15c7eaa5",
   "metadata": {},
   "outputs": [
    {
     "name": "stdout",
     "output_type": "stream",
     "text": [
      "List is sorted: True\n",
      "List is sorted: False\n",
      "List is sorted: True\n",
      "List is sorted: False\n"
     ]
    }
   ],
   "source": [
    "# Declare lists of values to operate on\n",
    "items1 = [6, 8, 19, 20, 23, 41, 49, 53, 56, 87]\n",
    "items2 = [6, 20, 8, 19, 56, 23, 87, 41, 49, 53]\n",
    "\n",
    "def is_sorted_brute(itemlist):\n",
    "    # TODO: using the brute force method\n",
    "    for i in range(0, len(itemlist)-1):\n",
    "        if (itemlist[i] > itemlist[i+1]):\n",
    "            return False\n",
    "    \n",
    "    return True\n",
    "\n",
    "\n",
    "def is_sorted_all(itemlist):\n",
    "    # TODO: using the all() method\n",
    "        return all(itemlist[i] <= itemlist[i+1] for i in range(len(itemlist)-1))\n",
    "\n",
    "\n",
    "print(\"List is sorted:\", str(is_sorted_brute(items1)))\n",
    "print(\"List is sorted:\", str(is_sorted_brute(items2)))\n",
    "\n",
    "print(\"List is sorted:\", str(is_sorted_all(items1)))\n",
    "print(\"List is sorted:\", str(is_sorted_all(items2)))\n"
   ]
  }
 ],
 "metadata": {
  "kernelspec": {
   "display_name": "Python 3 (ipykernel)",
   "language": "python",
   "name": "python3"
  },
  "language_info": {
   "codemirror_mode": {
    "name": "ipython",
    "version": 3
   },
   "file_extension": ".py",
   "mimetype": "text/x-python",
   "name": "python",
   "nbconvert_exporter": "python",
   "pygments_lexer": "ipython3",
   "version": "3.9.1"
  },
  "toc": {
   "base_numbering": 1,
   "nav_menu": {},
   "number_sections": true,
   "sideBar": true,
   "skip_h1_title": false,
   "title_cell": "Table of Contents",
   "title_sidebar": "Contents",
   "toc_cell": false,
   "toc_position": {},
   "toc_section_display": true,
   "toc_window_display": false
  }
 },
 "nbformat": 4,
 "nbformat_minor": 5
}
