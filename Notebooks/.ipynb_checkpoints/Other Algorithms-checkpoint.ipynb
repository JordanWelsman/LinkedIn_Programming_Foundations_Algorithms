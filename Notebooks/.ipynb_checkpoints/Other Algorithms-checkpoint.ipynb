{
 "cells": [
  {
   "cell_type": "markdown",
   "id": "ec166db9",
   "metadata": {},
   "source": [
    "# Other Algorithms"
   ]
  },
  {
   "cell_type": "markdown",
   "id": "1dbadae7",
   "metadata": {},
   "source": [
    "## Hashtable Duplicate Filtering\n",
    "Definition: _Using a hash table to filter out duplicate items._\n",
    "\n",
    "> Time complexity: **O(n)**"
   ]
  },
  {
   "cell_type": "code",
   "execution_count": 2,
   "id": "ba15755e",
   "metadata": {},
   "outputs": [
    {
     "name": "stdout",
     "output_type": "stream",
     "text": [
      "Result: {'banana', 'kiwi', 'pear', 'orange', 'apple'}\n"
     ]
    }
   ],
   "source": [
    "# Define a set of items that we want to reduce duplicates\n",
    "items = [\"apple\", \"pear\", \"orange\", \"banana\", \"apple\",\n",
    "         \"orange\", \"apple\", \"pear\", \"banana\", \"orange\",\n",
    "         \"apple\", \"kiwi\", \"pear\", \"apple\", \"orange\"]\n",
    "\n",
    "# TODO: create a hashtable to perform a filter\n",
    "filter = dict()\n",
    "\n",
    "# TODO: loop over each item and add to the hashtable\n",
    "for key in items:\n",
    "    filter[key] = 0\n",
    "\n",
    "# TODO: create a set from the resulting keys in the hashtable\n",
    "result = set(filter.keys())\n",
    "print(\"Duplicates:\", str(result))\n"
   ]
  },
  {
   "cell_type": "markdown",
   "id": "a78e65bc",
   "metadata": {},
   "source": [
    "## Hashtable Value Counting\n",
    "Definition: _Using a hash table to count the values in an array._\n",
    "\n",
    "> Time complexity: **O(n)**"
   ]
  },
  {
   "cell_type": "code",
   "execution_count": 3,
   "id": "0e5b9cdc",
   "metadata": {},
   "outputs": [
    {
     "name": "stdout",
     "output_type": "stream",
     "text": [
      "Value counts: {'apple': 5, 'pear': 3, 'orange': 4, 'banana': 2, 'kiwi': 1}\n"
     ]
    }
   ],
   "source": [
    "# Define a set of items that we want to count\n",
    "items = [\"apple\", \"pear\", \"orange\", \"banana\", \"apple\",\n",
    "         \"orange\", \"apple\", \"pear\", \"banana\", \"orange\",\n",
    "         \"apple\", \"kiwi\", \"pear\", \"apple\", \"orange\"]\n",
    "\n",
    "# TODO: create a hashtable object to hold the items and counts\n",
    "counter = dict()\n",
    "\n",
    "# TODO: iterate over each item and increment the cobunt for each one\n",
    "for item in items:\n",
    "    if (item in counter.keys()):\n",
    "        counter[item] += 1\n",
    "    else:\n",
    "        counter[item] = 1\n",
    "\n",
    "# print the results\n",
    "print(\"Value counts:\", str(counter))\n"
   ]
  },
  {
   "cell_type": "markdown",
   "id": "ebf16147",
   "metadata": {},
   "source": [
    "## Recursion Maximum Location\n",
    "Definition: _Using recursion to find the maximum value within an array._\n",
    "\n",
    "> Time complexity: **O(n)**"
   ]
  },
  {
   "cell_type": "code",
   "execution_count": 5,
   "id": "942de229",
   "metadata": {},
   "outputs": [
    {
     "name": "stdout",
     "output_type": "stream",
     "text": [
      "Maximum value: 87\n"
     ]
    }
   ],
   "source": [
    "# Declare a list of values to operate on\n",
    "items = [6, 20, 8, 19, 56, 23, 87, 41, 49, 53]\n",
    "\n",
    "def find_max(items):\n",
    "    # TODO: breaking condition: last item in list? return it\n",
    "    if len(items) == 1:\n",
    "        return items[0]\n",
    "\n",
    "    # TODO: otherwise get the first item and call function\n",
    "    # again to operate on the rest of the list\n",
    "    op1 = items[0]\n",
    "    op2 = find_max(items[1:])\n",
    "    \n",
    "    # TODO: perform the comparison when we're down to just two\n",
    "    if op1 > op2:\n",
    "        return op1\n",
    "    else:\n",
    "        return op2\n",
    "\n",
    "# test the function\n",
    "print(\"Maximum value:\", str(find_max(items)))"
   ]
  }
 ],
 "metadata": {
  "kernelspec": {
   "display_name": "Python 3 (ipykernel)",
   "language": "python",
   "name": "python3"
  },
  "language_info": {
   "codemirror_mode": {
    "name": "ipython",
    "version": 3
   },
   "file_extension": ".py",
   "mimetype": "text/x-python",
   "name": "python",
   "nbconvert_exporter": "python",
   "pygments_lexer": "ipython3",
   "version": "3.9.1"
  }
 },
 "nbformat": 4,
 "nbformat_minor": 5
}
