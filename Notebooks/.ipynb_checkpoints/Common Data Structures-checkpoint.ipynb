{
 "cells": [
  {
   "cell_type": "markdown",
   "id": "d120b41b",
   "metadata": {},
   "source": [
    "# Data Structures"
   ]
  },
  {
   "cell_type": "markdown",
   "id": "6a85b476",
   "metadata": {},
   "source": [
    "## Array\n",
    "Definition: _A collection of data elements identified by index or key._\n",
    "- Calculate item index: **O(1)**\n",
    "- Insert or delete item at beginning: **O(N)**\n",
    "- Insert or delete item in middle: **O(n)**\n",
    "- Insert or delete item at end: **O(1)**"
   ]
  },
  {
   "cell_type": "code",
   "execution_count": 49,
   "id": "c79e60e3",
   "metadata": {},
   "outputs": [
    {
     "name": "stdout",
     "output_type": "stream",
     "text": [
      "One-dimensional array: [1, 2, 4, 8, 16]\n",
      "Two-dimensional array:\n",
      " [[ 1  2  3  4]\n",
      " [ 2  4  6  8]\n",
      " [ 4  8 12 16]\n",
      " [ 8 16 24 32]]\n"
     ]
    }
   ],
   "source": [
    "import numpy as np\n",
    "\n",
    "# Array with one dimension\n",
    "array1 = [1, 2, 4, 8, 16]\n",
    "print(\"One-dimensional array:\", str(array1))\n",
    "\n",
    "# Array with two dimensions\n",
    "array2 = [[1, 2, 3, 4], [2, 4, 6, 8], [4, 8, 12, 16], [8, 16, 24, 32]]\n",
    "matrix = np.matrix(array2)\n",
    "print(\"Two-dimensional array:\\n\", str(matrix))\n"
   ]
  },
  {
   "cell_type": "markdown",
   "id": "2b8c7496",
   "metadata": {},
   "source": [
    "## Linked List\n",
    "Definition: _A collection of data elements called nodes which each contain a reference to the next node in the list._\n",
    "- Elements can be easily inserted and removed.\n",
    "- Underlying memory doesn't need to be reorganised.\n",
    "- Can't do constant-time random item access.\n",
    "- Item lookup is linear in time complexity (**O(n)**).\n",
    "\n",
    "> Singly Linked List: Each data element links to the next element; Only one direction of traversal.\n",
    "\n",
    "> Doubly Linked List: Each data element links to the next and previous elements; Two directions of traversal."
   ]
  },
  {
   "cell_type": "code",
   "execution_count": 50,
   "id": "46954a5c",
   "metadata": {},
   "outputs": [
    {
     "name": "stdout",
     "output_type": "stream",
     "text": [
      "Node:  15\n",
      "Node:  13\n",
      "Node:  49\n",
      "Node:  38\n",
      "Item count:  3\n",
      "Finding item:  None\n",
      "Node:  15\n",
      "Node:  13\n",
      "Node:  49\n"
     ]
    }
   ],
   "source": [
    "# Node class\n",
    "class Node(object):\n",
    "    def __init__(self, val):\n",
    "        self.val = val\n",
    "        self.next = None\n",
    "\n",
    "    def get_data(self):\n",
    "        return self.val\n",
    "\n",
    "    def set_data(self, val):\n",
    "        self.val = val\n",
    "\n",
    "    def get_next(self):\n",
    "        return self.next\n",
    "\n",
    "    def set_next(self, next):\n",
    "        self.next = next\n",
    "\n",
    "\n",
    "# LinkedList class\n",
    "class LinkedList(object):\n",
    "    def __init__(self, head=None):\n",
    "        self.head = head\n",
    "        self.count = 0\n",
    "\n",
    "    def get_count(self):\n",
    "        return self.count\n",
    "\n",
    "    def insert(self, data):\n",
    "        # TODO: insert a new node\n",
    "        new_node = Node(data)\n",
    "        new_node.set_next(self.head)\n",
    "        self.head = new_node\n",
    "        self.count += 1\n",
    "\n",
    "    def find(self, val):\n",
    "        # TODO: find the first item with a given value\n",
    "        item = self.head\n",
    "        while (item != None):\n",
    "            if item.get_data() == val:\n",
    "                return item\n",
    "            else:\n",
    "                item = item.get_next()\n",
    "\n",
    "        return None\n",
    "\n",
    "    def deleteAt(self, idx):\n",
    "        # TODO: delete an item at given index\n",
    "        if idx > self.count-1:\n",
    "            return\n",
    "        if idx == 0:\n",
    "            self.head = self.head.get_next()\n",
    "        else:\n",
    "            tempIdx = 0\n",
    "            node = self.head\n",
    "            while tempIdx < idx - 1:\n",
    "                node = node.get_next()\n",
    "                tempIdx += 1\n",
    "            node.set_next(node.get_next().get_next())\n",
    "            self.count -= 1\n",
    "\n",
    "    def dump_list(self):\n",
    "        tempnode = self.head\n",
    "        while (tempnode != None):\n",
    "            print(\"Node: \", tempnode.get_data())\n",
    "            tempnode = tempnode.get_next()\n",
    "\n",
    "\n",
    "# Create Linked List and insert items\n",
    "itemlist = LinkedList()\n",
    "itemlist.insert(38)\n",
    "itemlist.insert(49)\n",
    "itemlist.insert(13)\n",
    "itemlist.insert(15)\n",
    "itemlist.dump_list()\n",
    "\n",
    "# Exercise the list\n",
    "# print(\"Item count: \", itemlist.get_count())\n",
    "# print(\"Finding item: \", itemlist.find(13))\n",
    "# print(\"Finding item: \", itemlist.find(78))\n",
    "\n",
    "# Delete an item\n",
    "itemlist.deleteAt(3)\n",
    "print(\"Item count: \", itemlist.get_count())\n",
    "print(\"Finding item: \", itemlist.find(38))\n",
    "itemlist.dump_list()\n"
   ]
  },
  {
   "cell_type": "markdown",
   "id": "7f9ee060",
   "metadata": {},
   "source": [
    "## Stack\n",
    "Definition: _A collection of data elements that supports **push** and **pop** operations._\n",
    "- An element can be pushed (added) onto  the top of a stack.\n",
    "- An element can be popped (removed) from the top of a stack.\n",
    "- The last element pushed is the first element to be popped.\n",
    "- Only the top (last) element on the stack can be popped at any given time.\n",
    "> Works on _First In; Last Out (FILO)_ principle."
   ]
  },
  {
   "cell_type": "code",
   "execution_count": 51,
   "id": "8ad080db",
   "metadata": {},
   "outputs": [
    {
     "name": "stdout",
     "output_type": "stream",
     "text": [
      "Stack contents: [1, 2, 3, 4]\n",
      "Item popped: 4\n",
      "New stack contents: [1, 2, 3]\n"
     ]
    }
   ],
   "source": [
    "# TODO: create a new empty stack\n",
    "stack = []\n",
    "\n",
    "# TODO: push items onto the stack\n",
    "stack.append(1)\n",
    "stack.append(2)\n",
    "stack.append(3)\n",
    "stack.append(4)\n",
    "\n",
    "# TODO: print the stack contents\n",
    "print(\"Stack contents:\", str(stack))\n",
    "\n",
    "# TODO: pop an item off the stack\n",
    "x = stack.pop()\n",
    "print(\"Item popped:\", str(x))\n",
    "print(\"New stack contents:\", str(stack))\n"
   ]
  },
  {
   "cell_type": "markdown",
   "id": "2fe4d028",
   "metadata": {},
   "source": [
    "## Queue\n",
    "Definition: _A collection of data elements that supports **adding** and **removing**._\n",
    "- An element can be added to the end of the queue.\n",
    "- An element can be removed from the front of the queue.\n",
    "- The first element added is the first element to be removed.\n",
    "- Only the first element in the queue can be removed at any given time.\n",
    "> Works on _First In; First Out (FIFO)_ principle"
   ]
  },
  {
   "cell_type": "code",
   "execution_count": 52,
   "id": "dc3df8eb",
   "metadata": {},
   "outputs": [
    {
     "name": "stdout",
     "output_type": "stream",
     "text": [
      "Queue contents: deque([5, 6, 7, 8])\n",
      "Item removed: 5\n",
      "New quene contents: deque([6, 7, 8])\n"
     ]
    }
   ],
   "source": [
    "from collections import deque\n",
    "\n",
    "# TODO: create a new empty deque object that will function as a queue\n",
    "queue = deque()\n",
    "\n",
    "# TODO: add some items to the queue\n",
    "queue.append(5)\n",
    "queue.append(6)\n",
    "queue.append(7)\n",
    "queue.append(8)\n",
    "\n",
    "# TODO: print the queue contents\n",
    "print(\"Queue contents:\", str(queue))\n",
    "\n",
    "# TODO: pop an item off the front of the queue\n",
    "x = queue.popleft()\n",
    "print(\"Item removed:\", str(x))\n",
    "print(\"New quene contents:\", str(queue))\n"
   ]
  },
  {
   "cell_type": "markdown",
   "id": "fdcb70a5",
   "metadata": {},
   "source": [
    "## Hash Table\n",
    "Definition: _A collection of data elements which maps keys to their associated values._\n",
    "- Uses the key in a hash function to compute an index into slots in hash table & map the key to the value.\n",
    "- Key-to-value mappings are unique.\n",
    "- Hash tables are typically very fast.\n",
    "- For small datasets, arrays are usually more efficient.\n",
    "- Hash tables don't order entries in a predictable way."
   ]
  },
  {
   "cell_type": "code",
   "execution_count": 53,
   "id": "cd8a8a48",
   "metadata": {},
   "outputs": [
    {
     "name": "stdout",
     "output_type": "stream",
     "text": [
      "Instantaneous hash table: {'a': 1, 'b': '2', 'c': 'three'}\n",
      "Progressive hash table: {'d': 4, 'e': '5', 'f': 'six'}\n",
      "Updated hash table: {'d': 4, 'e': 'five', 'f': 'six'}\n",
      "Key d: Value: 4\n",
      "Key e: Value: five\n",
      "Key f: Value: six\n"
     ]
    }
   ],
   "source": [
    "# TODO: create a hashtable all at once\n",
    "items1 = dict({\"a\" : 1, \"b\" : \"2\", \"c\" : \"three\"})\n",
    "print(\"Instantaneous hash table:\", str(items1))\n",
    "\n",
    "# TODO: create a hashtable progressively\n",
    "items2 = {}\n",
    "items2[\"d\"] = 4\n",
    "items2[\"e\"] = \"5\"\n",
    "items2[\"f\"] = \"six\"\n",
    "print(\"Progressive hash table:\", str(items2))\n",
    "\n",
    "# TODO: try to access a nonexistent key\n",
    "# print(\"Non-existant key:\", str(items1[\"z\"]))\n",
    "\n",
    "# TODO: replace an item\n",
    "items2[\"e\"] = \"five\"\n",
    "print(\"Updated hash table:\", str(items2))\n",
    "\n",
    "# TODO: iterate the keys and values in the dictionary\n",
    "for key, value in items2.items():\n",
    "    print(\"Key\", str(key) + \":\", \"Value:\", str(value))\n"
   ]
  },
  {
   "cell_type": "markdown",
   "id": "785c881f",
   "metadata": {},
   "source": [
    "# Common Algorithms"
   ]
  },
  {
   "cell_type": "markdown",
   "id": "c3bbd182",
   "metadata": {},
   "source": [
    "## Euclid's Algorithm\n",
    "Definition: _Find the greatest common denominator (GCD) of two integers._\n",
    ">Example: GCD of 20 and 8 is 4 (Because 8/4 = 2 and 20/4 = 5)\n",
    "1. For two integers _a_ and _b_, where _a > b_, divide _a_ by _b_.\n",
    "2. If the remainder, _r_, is 0, then stop: GCD if _b_.\n",
    "3. Otherwise, set _a_ to _b_, _b_ to _r_, and repeat at step 1 until _r_ is 0."
   ]
  },
  {
   "cell_type": "code",
   "execution_count": 54,
   "id": "6f8f53bb",
   "metadata": {},
   "outputs": [
    {
     "name": "stdout",
     "output_type": "stream",
     "text": [
      "GCD of 60 and 96: 12\n",
      "GCD of 20 and 8: 4\n"
     ]
    }
   ],
   "source": [
    "# Find the greatest common denominator of two numbers\n",
    "# using Euclid's algorithm\n",
    "\n",
    "\n",
    "def gcd(a, b):\n",
    "    while (b != 0):\n",
    "        t = a # store a temporarily\n",
    "        a = b # set a to b\n",
    "        b = t % b # set b to remainder of \n",
    "        \n",
    "    return a\n",
    "\n",
    "# Try out the function with a few examples\n",
    "w = 60\n",
    "x = 96\n",
    "y = 20\n",
    "z = 8\n",
    "\n",
    "print(\"GCD of\", str(w), \"and\", str(x) + \":\", gcd(60, 96)) # should be 12\n",
    "print(\"GCD of\", str(y), \"and\", str(z) + \":\", gcd(20,8)) # should be 4\n"
   ]
  }
 ],
 "metadata": {
  "kernelspec": {
   "display_name": "Python 3 (ipykernel)",
   "language": "python",
   "name": "python3"
  },
  "language_info": {
   "codemirror_mode": {
    "name": "ipython",
    "version": 3
   },
   "file_extension": ".py",
   "mimetype": "text/x-python",
   "name": "python",
   "nbconvert_exporter": "python",
   "pygments_lexer": "ipython3",
   "version": "3.9.1"
  },
  "toc": {
   "base_numbering": 1,
   "nav_menu": {},
   "number_sections": true,
   "sideBar": true,
   "skip_h1_title": false,
   "title_cell": "Table of Contents",
   "title_sidebar": "Contents",
   "toc_cell": false,
   "toc_position": {},
   "toc_section_display": true,
   "toc_window_display": true
  }
 },
 "nbformat": 4,
 "nbformat_minor": 5
}
