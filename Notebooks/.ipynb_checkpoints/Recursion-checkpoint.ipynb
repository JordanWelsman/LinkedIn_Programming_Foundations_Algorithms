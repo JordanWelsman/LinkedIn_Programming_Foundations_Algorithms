{
 "cells": [
  {
   "cell_type": "markdown",
   "id": "3046130c",
   "metadata": {},
   "source": [
    "# Recursion\n",
    "Definition: _When a function call itself from within its own code._\n",
    "- Recursive functions need to have a breaking condition.\n",
    "- This prevents infinite loops and eventual crashes.\n",
    "- Each time the function is called, the old arguments are saved.\n",
    "- This is called the 'call stack'."
   ]
  },
  {
   "cell_type": "markdown",
   "id": "a523cc1e",
   "metadata": {},
   "source": [
    "## Recursion Example"
   ]
  },
  {
   "cell_type": "code",
   "execution_count": 4,
   "id": "0c9bb1e1",
   "metadata": {},
   "outputs": [
    {
     "name": "stdout",
     "output_type": "stream",
     "text": [
      "5...\n",
      "4...\n",
      "3...\n",
      "2...\n",
      "1...\n",
      "Done!\n",
      "foo\n",
      "foo\n",
      "foo\n",
      "foo\n",
      "foo\n"
     ]
    }
   ],
   "source": [
    "def countdown(x):\n",
    "    if x == 0: # check stack is empty\n",
    "        print(\"Done!\")\n",
    "        return\n",
    "    else:\n",
    "        print(str(x) + \"...\") # print current stack element\n",
    "        countdown(x-1) # recursively call self\n",
    "        print(\"foo\") # call stack will unwind after recursion is complete\n",
    "        \n",
    "        \n",
    "countdown(5)\n"
   ]
  },
  {
   "cell_type": "markdown",
   "id": "934d1938",
   "metadata": {},
   "source": [
    "## Power and Factorial\n",
    "Definition: _The x power is when a number is multiplied by itself x times._\n",
    "\n",
    "Definition: _The factorial of x is when every number up to and including x is multiplied together._"
   ]
  },
  {
   "cell_type": "code",
   "execution_count": 5,
   "id": "03d1ef5e",
   "metadata": {},
   "outputs": [
    {
     "name": "stdout",
     "output_type": "stream",
     "text": [
      "5 to the power of 3 it 125\n",
      "1 to the power of 5 it 1\n",
      "4! is 24\n",
      "0! is 1\n"
     ]
    }
   ],
   "source": [
    "def power(num, pwr):\n",
    "    if pwr == 0: # check stack is empty\n",
    "        return 1\n",
    "    else:\n",
    "        return num * power(num, pwr-1) # return multiplied number\n",
    "\n",
    "\n",
    "def factorial(num):\n",
    "    if num == 0: # check stack is empty\n",
    "        return 1\n",
    "    else:\n",
    "        return num * factorial(num-1)\n",
    "\n",
    "\n",
    "print(\"{} to the power of {} is {}\".format(5, 3, power(5, 3)))\n",
    "print(\"{} to the power of {} is {}\".format(1, 5, power(1, 5)))\n",
    "print(\"{}! is {}\".format(4, factorial(4)))\n",
    "print(\"{}! is {}\".format(0, factorial(0)))"
   ]
  }
 ],
 "metadata": {
  "kernelspec": {
   "display_name": "Python 3 (ipykernel)",
   "language": "python",
   "name": "python3"
  },
  "language_info": {
   "codemirror_mode": {
    "name": "ipython",
    "version": 3
   },
   "file_extension": ".py",
   "mimetype": "text/x-python",
   "name": "python",
   "nbconvert_exporter": "python",
   "pygments_lexer": "ipython3",
   "version": "3.9.1"
  },
  "toc": {
   "base_numbering": 1,
   "nav_menu": {},
   "number_sections": true,
   "sideBar": true,
   "skip_h1_title": false,
   "title_cell": "Table of Contents",
   "title_sidebar": "Contents",
   "toc_cell": false,
   "toc_position": {},
   "toc_section_display": true,
   "toc_window_display": false
  }
 },
 "nbformat": 4,
 "nbformat_minor": 5
}
